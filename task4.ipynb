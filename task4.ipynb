{
 "cells": [
  {
   "cell_type": "code",
   "execution_count": 1,
   "id": "e82e1062",
   "metadata": {
    "ExecuteTime": {
     "end_time": "2022-04-16T05:51:22.799726Z",
     "start_time": "2022-04-16T05:51:22.793872Z"
    }
   },
   "outputs": [],
   "source": [
    "class Student:\n",
    "    def __init__(self,name):\n",
    "        self._name = name\n",
    "    @property\n",
    "    def name(self):\n",
    "        return self._name\n",
    "    @name.setter\n",
    "    def name(self,newname):\n",
    "        self._name = newname"
   ]
  },
  {
   "cell_type": "code",
   "execution_count": 2,
   "id": "e455fb0e",
   "metadata": {
    "ExecuteTime": {
     "end_time": "2022-04-16T05:53:23.622086Z",
     "start_time": "2022-04-16T05:53:23.615271Z"
    }
   },
   "outputs": [],
   "source": [
    "class Student:\n",
    "    _schoolName = 'XYZ School' # protected class attribute\n",
    "    \n",
    "    def __init__(self, name, age):\n",
    "        self._name=name  # protected instance attribute\n",
    "        self._age=age # protected instance attribute"
   ]
  },
  {
   "cell_type": "code",
   "execution_count": null,
   "id": "1d341a7b",
   "metadata": {},
   "outputs": [],
   "source": []
  }
 ],
 "metadata": {
  "kernelspec": {
   "display_name": "Python 3 (ipykernel)",
   "language": "python",
   "name": "python3"
  },
  "language_info": {
   "codemirror_mode": {
    "name": "ipython",
    "version": 3
   },
   "file_extension": ".py",
   "mimetype": "text/x-python",
   "name": "python",
   "nbconvert_exporter": "python",
   "pygments_lexer": "ipython3",
   "version": "3.9.7"
  },
  "latex_envs": {
   "LaTeX_envs_menu_present": true,
   "autoclose": false,
   "autocomplete": true,
   "bibliofile": "biblio.bib",
   "cite_by": "apalike",
   "current_citInitial": 1,
   "eqLabelWithNumbers": true,
   "eqNumInitial": 1,
   "hotkeys": {
    "equation": "Ctrl-E",
    "itemize": "Ctrl-I"
   },
   "labels_anchors": false,
   "latex_user_defs": false,
   "report_style_numbering": false,
   "user_envs_cfg": false
  }
 },
 "nbformat": 4,
 "nbformat_minor": 5
}
