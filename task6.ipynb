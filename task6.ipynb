{
 "cells": [
  {
   "cell_type": "code",
   "execution_count": 24,
   "id": "b697aebe",
   "metadata": {
    "ExecuteTime": {
     "end_time": "2022-04-23T04:11:11.579204Z",
     "start_time": "2022-04-23T04:11:11.567485Z"
    }
   },
   "outputs": [],
   "source": [
    "class car:\n",
    "    \n",
    "    def __init__(self):\n",
    "        self.model = None\n",
    "        self.type = None\n",
    "        self.color = None\n",
    "        self.modelyear = 0\n",
    "        self.priceperday = None\n",
    "        self.fuel = None\n",
    "        self.speed = None\n",
    "        self.takeinput()\n",
    "    \n",
    "    def takeinput(self):\n",
    "        self.model = input(\"please enter car model: \")\n",
    "        self.type = input(\"please enter car type: \")\n",
    "        self.color = input(\"please enter car color: \")\n",
    "        self.modelyear =int(input(\"please enter car modelyear: \"))\n",
    "        self.priceperday =int(input(\"please enter car priceperday: \"))\n",
    "        self.fuel = input(\"please enter car fuel: \")\n",
    "        self.speed =int(input(\"please enter car speed: \"))\n",
    "    \n",
    "    def drive(self):\n",
    "        print(\"this \"+self.model+\" is driving\")\n",
    "        \n",
    "    def stop(self):\n",
    "        print(\"this \"+self.model+\" is stopped\")\n",
    "        \n",
    "    def speedup(self):\n",
    "        self.speed += 10\n",
    "        print (\"current speed = \", self.speed)\n",
    "    \n",
    "    def slowdown(self):\n",
    "        if self.speed >= 10:\n",
    "            self.speed -= 10\n",
    "            print (\"current speed = \", self.speed)\n",
    "    "
   ]
  },
  {
   "cell_type": "code",
   "execution_count": 25,
   "id": "8f3509df",
   "metadata": {
    "ExecuteTime": {
     "end_time": "2022-04-23T04:12:20.890703Z",
     "start_time": "2022-04-23T04:11:15.664682Z"
    },
    "scrolled": false
   },
   "outputs": [
    {
     "name": "stdout",
     "output_type": "stream",
     "text": [
      "please enter car model: bmw\n",
      "please enter car type: x6\n",
      "please enter car color: white\n",
      "please enter car modelyear: 2020\n",
      "please enter car priceperday: 5000000\n",
      "please enter car fuel: oil\n",
      "please enter car speed: 120\n"
     ]
    }
   ],
   "source": [
    "firstcar = car()"
   ]
  },
  {
   "cell_type": "code",
   "execution_count": 26,
   "id": "c947e580",
   "metadata": {
    "ExecuteTime": {
     "end_time": "2022-04-23T04:12:26.442079Z",
     "start_time": "2022-04-23T04:12:26.437199Z"
    }
   },
   "outputs": [
    {
     "name": "stdout",
     "output_type": "stream",
     "text": [
      "current speed =  130\n"
     ]
    }
   ],
   "source": [
    "firstcar.speedup()"
   ]
  },
  {
   "cell_type": "code",
   "execution_count": 27,
   "id": "c02deec4",
   "metadata": {
    "ExecuteTime": {
     "end_time": "2022-04-23T04:12:32.774003Z",
     "start_time": "2022-04-23T04:12:32.769121Z"
    }
   },
   "outputs": [
    {
     "name": "stdout",
     "output_type": "stream",
     "text": [
      "current speed =  120\n"
     ]
    }
   ],
   "source": [
    "firstcar.slowdown()"
   ]
  },
  {
   "cell_type": "code",
   "execution_count": 28,
   "id": "3ba0dd32",
   "metadata": {
    "ExecuteTime": {
     "end_time": "2022-04-23T04:12:35.659794Z",
     "start_time": "2022-04-23T04:12:35.654917Z"
    }
   },
   "outputs": [
    {
     "name": "stdout",
     "output_type": "stream",
     "text": [
      "this bmw is driving\n"
     ]
    }
   ],
   "source": [
    "firstcar.drive()"
   ]
  },
  {
   "cell_type": "code",
   "execution_count": 29,
   "id": "e1be1412",
   "metadata": {
    "ExecuteTime": {
     "end_time": "2022-04-23T04:12:50.690139Z",
     "start_time": "2022-04-23T04:12:50.685257Z"
    }
   },
   "outputs": [
    {
     "name": "stdout",
     "output_type": "stream",
     "text": [
      "this bmw is stopped\n"
     ]
    }
   ],
   "source": [
    "firstcar.stop()"
   ]
  },
  {
   "cell_type": "code",
   "execution_count": null,
   "id": "4fa26c23",
   "metadata": {},
   "outputs": [],
   "source": []
  },
  {
   "cell_type": "code",
   "execution_count": null,
   "id": "e0853946",
   "metadata": {},
   "outputs": [],
   "source": []
  },
  {
   "cell_type": "code",
   "execution_count": null,
   "id": "334ee636",
   "metadata": {},
   "outputs": [],
   "source": []
  },
  {
   "cell_type": "code",
   "execution_count": null,
   "id": "8d758099",
   "metadata": {},
   "outputs": [],
   "source": []
  },
  {
   "cell_type": "code",
   "execution_count": null,
   "id": "a87854c8",
   "metadata": {},
   "outputs": [],
   "source": []
  }
 ],
 "metadata": {
  "kernelspec": {
   "display_name": "Python 3 (ipykernel)",
   "language": "python",
   "name": "python3"
  },
  "language_info": {
   "codemirror_mode": {
    "name": "ipython",
    "version": 3
   },
   "file_extension": ".py",
   "mimetype": "text/x-python",
   "name": "python",
   "nbconvert_exporter": "python",
   "pygments_lexer": "ipython3",
   "version": "3.9.7"
  },
  "latex_envs": {
   "LaTeX_envs_menu_present": true,
   "autoclose": false,
   "autocomplete": true,
   "bibliofile": "biblio.bib",
   "cite_by": "apalike",
   "current_citInitial": 1,
   "eqLabelWithNumbers": true,
   "eqNumInitial": 1,
   "hotkeys": {
    "equation": "Ctrl-E",
    "itemize": "Ctrl-I"
   },
   "labels_anchors": false,
   "latex_user_defs": false,
   "report_style_numbering": false,
   "user_envs_cfg": false
  }
 },
 "nbformat": 4,
 "nbformat_minor": 5
}
